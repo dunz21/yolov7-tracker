{
 "cells": [
  {
   "cell_type": "markdown",
   "metadata": {},
   "source": [
    "# IN OUT machine learning model"
   ]
  },
  {
   "cell_type": "code",
   "execution_count": 20,
   "metadata": {},
   "outputs": [],
   "source": [
    "import os\n",
    "from utils.pipeline import get_folders,folder_analysis\n",
    "import pandas as pd\n",
    "import numpy as np\n",
    "\n",
    "folder_name='imgs_conce'\n",
    "\n",
    "list_folders = get_folders(folder_name)\n",
    "\n",
    "base_path = os.path.dirname(list_folders[0])\n",
    "\n",
    "_,_,_,_,result = folder_analysis(list_folders)\n",
    "\n",
    "\n",
    "df = pd.read_csv('conce_bbox.csv')\n",
    "\n",
    "\n",
    "# Convert result['In'] to integers\n",
    "result_in_int = [int(id) for id in result['In']]\n",
    "\n",
    "df['direction'] = np.where(df['id'].isin(result_in_int), 'In', 'Out')\n",
    "df.to_csv('conce_bbox.csv', index=False)"
   ]
  },
  {
   "cell_type": "code",
   "execution_count": null,
   "metadata": {},
   "outputs": [],
   "source": [
    "import pandas as pd\n",
    "from sklearn.cluster import KMeans\n",
    "from sklearn.preprocessing import StandardScaler\n",
    "\n",
    "# Load your CSV data into a DataFrame\n",
    "# Assuming your CSV file is named 'coordinates.csv'\n",
    "df = pd.read_csv('conce_bbox_WIP.csv')\n",
    "\n",
    "# Calculate the mean of the coordinates for each ID\n",
    "mean_coordinates = df.groupby('id').mean().reset_index()\n",
    "\n",
    "# Features to be used for clustering\n",
    "features = ['x1', 'y1', 'x2', 'y2', 'centroid_bottom_x', 'centroid_bottom_y']\n",
    "\n",
    "# Standardize the features\n",
    "scaler = StandardScaler()\n",
    "scaled_features = scaler.fit_transform(mean_coordinates[features])\n",
    "\n",
    "# Perform K-Means clustering with 3 clusters\n",
    "kmeans = KMeans(n_clusters=3, random_state=42)\n",
    "mean_coordinates['cluster'] = kmeans.fit_predict(scaled_features)\n",
    "\n",
    "# Now mean_coordinates DataFrame contains an additional column 'cluster' \n",
    "# indicating the cluster assignment (0, 1, or 2) for each ID\n",
    "print(mean_coordinates[['id', 'cluster']])\n"
   ]
  },
  {
   "cell_type": "code",
   "execution_count": null,
   "metadata": {},
   "outputs": [],
   "source": [
    "import pandas as pd\n",
    "from sklearn.model_selection import train_test_split\n",
    "import xgboost as xgb\n",
    "from sklearn.metrics import accuracy_score, classification_report\n",
    "\n",
    "# Load your data\n",
    "df = pd.read_csv('your_data.csv')\n",
    "\n",
    "# Assuming 'direction' is your target variable\n",
    "X = df[['x1', 'y1', 'x2', 'y2', 'centroid_bottom_x', 'centroid_bottom_y']]\n",
    "y = df['direction']\n",
    "\n",
    "# Split the data into training and testing sets\n",
    "X_train, X_test, y_train, y_test = train_test_split(X, y, test_size=0.2, random_state=42)\n",
    "\n",
    "\n",
    "# Initialize the XGBoost classifier\n",
    "model = xgb.XGBClassifier(use_label_encoder=False, eval_metric='mlogloss')\n",
    "\n",
    "# Train the model\n",
    "model.fit(X_train, y_train)\n",
    "\n",
    "\n",
    "\n",
    "# Making predictions\n",
    "y_pred_proba = model.predict_proba(X_test)\n",
    "y_pred = model.predict(X_test)\n",
    "\n",
    "# Define a threshold for maximum probability to decide 'None'\n",
    "threshold = 0.5  # This can be adjusted based on validation\n",
    "\n",
    "# Apply threshold to probabilities to assign 'None' to uncertain predictions\n",
    "y_pred_final = [y_pred[i] if max(probs) > threshold else 'None' for i, probs in enumerate(y_pred_proba)]\n",
    "\n",
    "# Evaluate the model\n",
    "print(classification_report(y_test, y_pred_final))\n"
   ]
  }
 ],
 "metadata": {
  "kernelspec": {
   "display_name": "base",
   "language": "python",
   "name": "python3"
  },
  "language_info": {
   "codemirror_mode": {
    "name": "ipython",
    "version": 3
   },
   "file_extension": ".py",
   "mimetype": "text/x-python",
   "name": "python",
   "nbconvert_exporter": "python",
   "pygments_lexer": "ipython3",
   "version": "3.11.5"
  }
 },
 "nbformat": 4,
 "nbformat_minor": 2
}
