{
 "cells": [
  {
   "cell_type": "code",
   "execution_count": 1,
   "metadata": {},
   "outputs": [],
   "source": [
    "import numpy as np\n",
    "import torch\n",
    "import datetime\n",
    "import os\n",
    "import base64\n",
    "import pandas as pd\n",
    "from collections import Counter\n",
    "from tqdm import tqdm\n",
    "import sqlite3\n",
    "from utils.pipeline import get_files\n",
    "from utils.data_analysis import get_overlap_undefined,get_direction_info\n",
    "from utils.types import Direction\n",
    "# Set the maximum number of rows and columns to display\n",
    "pd.set_option('display.max_rows', 1000)  # Adjust the number as needed\n",
    "pd.set_option('display.max_columns', 1000)  # Adjust the number as needed\n",
    "\n",
    "files = get_files('/home/diego/Documents/yolov7-tracker/runs/detect/2024_04_17_conce_bytetrack')\n",
    "db = files['db']\n",
    "FRAME_NUMBER = 15\n",
    "conn = sqlite3.connect(db)\n",
    "bbox = pd.read_sql('SELECT * FROM bbox_raw', conn)\n",
    "bbox['direction'] = bbox.apply(lambda row: ('undefined' if row['img_name'].split('_')[3] == 'None' else  row['img_name'].split('_')[3]) if row['img_name'] is not None else None, axis=1)\n",
    "bbox['time_sec'] = bbox.apply(lambda row: int(row['frame_number']) // FRAME_NUMBER, axis=1)\n",
    "bbox['time_video'] = pd.to_datetime(bbox['time_sec'], unit='s').dt.time\n"
   ]
  },
  {
   "cell_type": "code",
   "execution_count": 2,
   "metadata": {},
   "outputs": [
    {
     "data": {
      "text/plain": [
       "{'undefined': 1466, 'out': 590, 'in': 565, 'cross': 64}"
      ]
     },
     "execution_count": 2,
     "metadata": {},
     "output_type": "execute_result"
    }
   ],
   "source": [
    "get_direction_info(bbox)"
   ]
  },
  {
   "cell_type": "code",
   "execution_count": 3,
   "metadata": {},
   "outputs": [],
   "source": [
    "overlap_results = get_overlap_undefined(bbox, 0,['undefined'])\n",
    "overlap_results.to_csv('overlap_results_undefined_2.csv', index=False)\n",
    "\n",
    "overlap_results = get_overlap_undefined(bbox, 0,[Direction.In.value, Direction.Out.value])\n",
    "overlap_results.to_csv('overlap_results_in_out_2.csv', index=False)"
   ]
  },
  {
   "cell_type": "code",
   "execution_count": null,
   "metadata": {},
   "outputs": [],
   "source": []
  },
  {
   "cell_type": "code",
   "execution_count": null,
   "metadata": {},
   "outputs": [],
   "source": [
    "overlap_results['overlap_type'].value_counts()"
   ]
  },
  {
   "cell_type": "code",
   "execution_count": null,
   "metadata": {},
   "outputs": [],
   "source": [
    "analysis.to_csv('analysis.csv', index=False)"
   ]
  },
  {
   "cell_type": "code",
   "execution_count": null,
   "metadata": {},
   "outputs": [],
   "source": []
  },
  {
   "cell_type": "code",
   "execution_count": null,
   "metadata": {},
   "outputs": [],
   "source": [
    "intervals = group_by_interval(filtered_df)\n",
    "total = count_ids_in_intervals(intervals)\n",
    "#print(total)\n",
    "\n",
    "with open('intervals.json', 'w') as f:\n",
    "\tf.write(str(intervals))\n",
    " \n",
    "with open('total.json', 'w') as f:\n",
    "\tf.write(str(total))"
   ]
  },
  {
   "cell_type": "code",
   "execution_count": null,
   "metadata": {},
   "outputs": [],
   "source": [
    "intervals[35750]"
   ]
  },
  {
   "cell_type": "code",
   "execution_count": null,
   "metadata": {},
   "outputs": [],
   "source": [
    "filtered_df.to_csv('bbox_2.csv', index=False)"
   ]
  },
  {
   "cell_type": "code",
   "execution_count": 2,
   "metadata": {},
   "outputs": [],
   "source": [
    "import matplotlib.pyplot as plt\n",
    "import matplotlib.colors as mcolors\n",
    "from scipy.stats import linregress\n",
    "\n",
    "\n",
    "def create_plot(df, primary_id,unique_ids, intersecting_id_colors=['green', 'orange', 'purple', 'cyan', 'magenta', 'yellow', 'brown']):\n",
    "    slopes = {}\n",
    "    for unique_id in unique_ids:\n",
    "        id_data = df[df['id'] == unique_id]\n",
    "        slope, intercept, r_value, p_value, std_err = linregress(id_data['frame_number'], id_data['distance_to_center'])\n",
    "        slopes[unique_id] = slope\n",
    "        \n",
    "    reference_slope = slopes[primary_id]  # You need to define this\n",
    "    normalized_slopes = {unique_id: slope / reference_slope for unique_id, slope in slopes.items()}\n",
    "    \n",
    "    \n",
    "    \n",
    "    scaled_slopes = {}\n",
    "    for unique_id in unique_ids:\n",
    "        id_data = df[df['id'] == unique_id]\n",
    "        min_y = id_data['distance_to_center'].min()\n",
    "        max_y = id_data['distance_to_center'].max()\n",
    "        scaled_slopes[unique_id] = (slopes[unique_id] - min_y) / (max_y - min_y) if max_y != min_y else 0\n",
    "    \n",
    "    \n",
    "    standardized_slopes = {}\n",
    "    for unique_id in unique_ids:\n",
    "        id_data = df[df['id'] == unique_id]\n",
    "        mean_y = id_data['distance_to_center'].mean()\n",
    "        std_y = id_data['distance_to_center'].std()\n",
    "        standardized_slopes[unique_id] = (slopes[unique_id] - mean_y) / std_y if std_y != 0 else 0\n",
    "\n",
    "    \n",
    "    \n",
    "    # Create the figure and axis objects\n",
    "    fig, ax = plt.subplots(figsize=(10, 6))  # You can adjust the size as needed\n",
    "\n",
    "    # Filter the dataframe for the primary ID and sort it\n",
    "    df_primary_id = df[df['id'] == primary_id].sort_values(by='frame_number')\n",
    "\n",
    "    # Scatter plot for the primary ID with different colors for positive and negative distances\n",
    "    positive_distance = df_primary_id['distance_to_center'] > 0\n",
    "    ax.scatter(df_primary_id[positive_distance]['frame_number'], df_primary_id[positive_distance]['distance_to_center'],\n",
    "               c='blue', s=10, alpha=0.6, label=f'ID {primary_id} In')\n",
    "    ax.scatter(df_primary_id[~positive_distance]['frame_number'], df_primary_id[~positive_distance]['distance_to_center'],\n",
    "               c='red', s=10, alpha=0.6, label=f'ID {primary_id} Out')\n",
    "\n",
    "    # Calculate the time frame start and end\n",
    "    timeframe_start = df['frame_number'].min()\n",
    "    timeframe_end = df['frame_number'].max()\n",
    "\n",
    "    # Identify other intersecting IDs within this timeframe\n",
    "    intersecting_ids = df[(df['frame_number'] >= timeframe_start) & \n",
    "                          (df['frame_number'] <= timeframe_end) & \n",
    "                          (df['id'] != primary_id)]['id'].unique()\n",
    "\n",
    "    # Plot data for each intersecting ID within the timeframe\n",
    "    for idx, other_id in enumerate(intersecting_ids):\n",
    "        df_other_id = df[(df['id'] == other_id) & \n",
    "                         (df['frame_number'] >= timeframe_start) & \n",
    "                         (df['frame_number'] <= timeframe_end)]\n",
    "        color = intersecting_id_colors[idx % len(intersecting_id_colors)]\n",
    "        ax.scatter(df_other_id['frame_number'], df_other_id['distance_to_center'], \n",
    "                   c=color, s=20, edgecolor='k', label=f'ID {other_id}')\n",
    "    \n",
    "    # Plot formatting\n",
    "    ax.axhline(y=0, color='black', linestyle='--', linewidth=1)\n",
    "    ax.set_xlim(timeframe_start - 10, timeframe_end + 10)  # A little space around the edges\n",
    "    ax.set_ylim(df['distance_to_center'].min() - 10, df['distance_to_center'].max() + 10)\n",
    "\n",
    "    # Construct the title to include the ID and its timeframe\n",
    "    duration = timeframe_end - timeframe_start\n",
    "    title_text = f'ID {primary_id}: #{duration} '\n",
    "    ax.set_title(title_text, color='red')\n",
    "\n",
    "    ax.set_xlabel('Frame Number')\n",
    "    ax.set_ylabel('Distance to Center')\n",
    "    ax.legend(loc='upper left', fontsize='small')\n",
    "    slopes_text = ', '.join([f'{key}: {value:.3f}' for key, value in slopes.items()])\n",
    "    fig.text(0.5, 1, f\"{slopes_text} = slopes\", ha='center', va='center', fontsize=10, color='green', style='italic')  # Adjust the position and style as needed\n",
    "    \n",
    "    normalized_slopes_text = ', '.join([f'{key}: {value:.3f}' for key, value in normalized_slopes.items()])\n",
    "    fig.text(0.5, -0.02, f\"{normalized_slopes_text} = normalized\", ha='center', va='center', fontsize=10, color='blue', style='italic')  # Adjust the position and style as needed\n",
    "    \n",
    "    scaled_slopes_text = ', '.join([f'{key}: {value:.3f}' for key, value in scaled_slopes.items()])\n",
    "    fig.text(0.5, -0.05, f\"{scaled_slopes_text} = scaled\", ha='center', va='center', fontsize=10, color='blue', style='italic')  # Adjust the position and style as needed\n",
    "    \n",
    "    standardized_slopes_text = ', '.join([f'{key}: {value:.3f}' for key, value in standardized_slopes.items()])\n",
    "    fig.text(0.5, -0.08, f\"{standardized_slopes_text} = standardized\", ha='center', va='center', fontsize=10, color='blue', style='italic')  # Adjust the position and style as needed\n",
    "    \n",
    "    \n",
    "    plt.tight_layout()\n",
    "    plt.show()"
   ]
  },
  {
   "cell_type": "code",
   "execution_count": 4,
   "metadata": {},
   "outputs": [
    {
     "data": {
      "image/png": "[encoded data removed]",
      "text/plain": [
       "<Figure size 1000x600 with 1 Axes>"
      ]
     },
     "metadata": {},
     "output_type": "display_data"
    }
   ],
   "source": [
    "primary_id = 2469\n",
    "query = 'SELECT * FROM overlap_results'\n",
    "overlap_results = pd.read_sql(query, conn)\n",
    "\n",
    "overlap_results_only_id = overlap_results[overlap_results['id'] == primary_id]\n",
    "ids_overlap = list(overlap_results_only_id['id_overlap'])\n",
    "ids_overlap.append(primary_id)  # Append the integer version of id\n",
    "\n",
    "query = 'SELECT id, distance_to_center, frame_number FROM bbox_raw WHERE id IN ({})'.format(', '.join(['?']*len(ids_overlap)))\n",
    "bbox2 = pd.read_sql(query, conn, params=ids_overlap)\n",
    "\n",
    "\n",
    "plot_path = create_plot(bbox2,primary_id, ids_overlap)"
   ]
  },
  {
   "cell_type": "markdown",
   "metadata": {},
   "source": [
    "#### Filter undefined logic 1"
   ]
  },
  {
   "cell_type": "code",
   "execution_count": 8,
   "metadata": {},
   "outputs": [
    {
     "name": "stderr",
     "output_type": "stream",
     "text": [
      "/tmp/ipykernel_6160/3273590579.py:19: DeprecationWarning: DataFrameGroupBy.apply operated on the grouping columns. This behavior is deprecated, and in a future version of pandas the grouping columns will be excluded from the operation. Either pass `include_groups=False` to exclude the groupings or explicitly select the grouping columns after groupby to silence this warning.\n",
      "  bbox_overlap = bbox_overlap.groupby('id').apply(remove_outliers).reset_index(drop=True)\n"
     ]
    },
    {
     "data": {
      "text/plain": [
       "[1800, 2852, 2853, 3958, 3961, 3966, 3968, 3973, 3975, 3978, 4405, 4412]"
      ]
     },
     "execution_count": 8,
     "metadata": {},
     "output_type": "execute_result"
    }
   ],
   "source": [
    "ids_overlap_total = overlap_results[overlap_results['count'] == 1]['id_overlap'].unique().tolist()\n",
    "#ids_overlap_total = [12,13]\n",
    "\n",
    "query = 'SELECT id, distance_to_center, frame_number FROM bbox_raw WHERE id IN ({})'.format(', '.join(['?']*len(ids_overlap_total)))\n",
    "\n",
    "def remove_outliers(df):\n",
    "    Q1 = df['distance_to_center'].quantile(0.25)\n",
    "    Q3 = df['distance_to_center'].quantile(0.75)\n",
    "    IQR = Q3 - Q1\n",
    "    lower_bound = Q1 - 1.5 * IQR\n",
    "    upper_bound = Q3 + 1.5 * IQR\n",
    "    return df[(df['distance_to_center'] >= lower_bound) & (df['distance_to_center'] <= upper_bound)]\n",
    "\n",
    "# Apply the function to each group of IDs and combine the results back into a single DataFrame\n",
    "\n",
    "\n",
    "\n",
    "bbox_overlap = pd.read_sql(query, conn, params=ids_overlap_total)\n",
    "bbox_overlap = bbox_overlap.groupby('id').apply(remove_outliers).reset_index(drop=True)\n",
    "\n",
    "df = bbox_overlap.sort_values(by=['id', 'frame_number'])\n",
    "df['previous_distance_to_center'] = df.groupby('id')['distance_to_center'].shift(1)\n",
    "crosses_zero = df.apply(lambda row: (row['distance_to_center'] < 0 < row['previous_distance_to_center']) or (row['distance_to_center'] > 0 > row['previous_distance_to_center']), axis=1)\n",
    "ids_crossing_zero = df[crosses_zero]['id'].unique()\n",
    "\n",
    "overlap_results[overlap_results['id_overlap'].isin(ids_crossing_zero)]['id'].unique().tolist()"
   ]
  },
  {
   "cell_type": "code",
   "execution_count": 4,
   "metadata": {},
   "outputs": [
    {
     "data": {
      "text/html": [
       "<div>\n",
       "<style scoped>\n",
       "    .dataframe tbody tr th:only-of-type {\n",
       "        vertical-align: middle;\n",
       "    }\n",
       "\n",
       "    .dataframe tbody tr th {\n",
       "        vertical-align: top;\n",
       "    }\n",
       "\n",
       "    .dataframe thead th {\n",
       "        text-align: right;\n",
       "    }\n",
       "</style>\n",
       "<table border=\"1\" class=\"dataframe\">\n",
       "  <thead>\n",
       "    <tr style=\"text-align: right;\">\n",
       "      <th></th>\n",
       "      <th>id</th>\n",
       "      <th>distance_to_center</th>\n",
       "      <th>frame_number</th>\n",
       "    </tr>\n",
       "  </thead>\n",
       "  <tbody>\n",
       "    <tr>\n",
       "      <th>0</th>\n",
       "      <td>12</td>\n",
       "      <td>353.69</td>\n",
       "      <td>3282</td>\n",
       "    </tr>\n",
       "    <tr>\n",
       "      <th>1</th>\n",
       "      <td>12</td>\n",
       "      <td>351.06</td>\n",
       "      <td>3283</td>\n",
       "    </tr>\n",
       "    <tr>\n",
       "      <th>2</th>\n",
       "      <td>12</td>\n",
       "      <td>349.05</td>\n",
       "      <td>3284</td>\n",
       "    </tr>\n",
       "    <tr>\n",
       "      <th>3</th>\n",
       "      <td>12</td>\n",
       "      <td>341.80</td>\n",
       "      <td>3285</td>\n",
       "    </tr>\n",
       "    <tr>\n",
       "      <th>4</th>\n",
       "      <td>12</td>\n",
       "      <td>333.61</td>\n",
       "      <td>3286</td>\n",
       "    </tr>\n",
       "    <tr>\n",
       "      <th>...</th>\n",
       "      <td>...</td>\n",
       "      <td>...</td>\n",
       "      <td>...</td>\n",
       "    </tr>\n",
       "    <tr>\n",
       "      <th>20670</th>\n",
       "      <td>8574</td>\n",
       "      <td>250.02</td>\n",
       "      <td>542692</td>\n",
       "    </tr>\n",
       "    <tr>\n",
       "      <th>20671</th>\n",
       "      <td>8574</td>\n",
       "      <td>248.25</td>\n",
       "      <td>542693</td>\n",
       "    </tr>\n",
       "    <tr>\n",
       "      <th>20672</th>\n",
       "      <td>8574</td>\n",
       "      <td>249.26</td>\n",
       "      <td>542694</td>\n",
       "    </tr>\n",
       "    <tr>\n",
       "      <th>20673</th>\n",
       "      <td>8574</td>\n",
       "      <td>250.44</td>\n",
       "      <td>542696</td>\n",
       "    </tr>\n",
       "    <tr>\n",
       "      <th>20674</th>\n",
       "      <td>8574</td>\n",
       "      <td>255.99</td>\n",
       "      <td>542697</td>\n",
       "    </tr>\n",
       "  </tbody>\n",
       "</table>\n",
       "<p>20675 rows × 3 columns</p>\n",
       "</div>"
      ],
      "text/plain": [
       "         id  distance_to_center  frame_number\n",
       "0        12              353.69          3282\n",
       "1        12              351.06          3283\n",
       "2        12              349.05          3284\n",
       "3        12              341.80          3285\n",
       "4        12              333.61          3286\n",
       "...     ...                 ...           ...\n",
       "20670  8574              250.02        542692\n",
       "20671  8574              248.25        542693\n",
       "20672  8574              249.26        542694\n",
       "20673  8574              250.44        542696\n",
       "20674  8574              255.99        542697\n",
       "\n",
       "[20675 rows x 3 columns]"
      ]
     },
     "execution_count": 4,
     "metadata": {},
     "output_type": "execute_result"
    }
   ],
   "source": [
    "bbox_overlap"
   ]
  },
  {
   "cell_type": "code",
   "execution_count": 106,
   "metadata": {},
   "outputs": [
    {
     "data": {
      "text/html": [
       "<div>\n",
       "<style scoped>\n",
       "    .dataframe tbody tr th:only-of-type {\n",
       "        vertical-align: middle;\n",
       "    }\n",
       "\n",
       "    .dataframe tbody tr th {\n",
       "        vertical-align: top;\n",
       "    }\n",
       "\n",
       "    .dataframe thead th {\n",
       "        text-align: right;\n",
       "    }\n",
       "</style>\n",
       "<table border=\"1\" class=\"dataframe\">\n",
       "  <thead>\n",
       "    <tr style=\"text-align: right;\">\n",
       "      <th></th>\n",
       "    </tr>\n",
       "  </thead>\n",
       "  <tbody>\n",
       "  </tbody>\n",
       "</table>\n",
       "</div>"
      ],
      "text/plain": [
       "Empty DataFrame\n",
       "Columns: []\n",
       "Index: []"
      ]
     },
     "execution_count": 106,
     "metadata": {},
     "output_type": "execute_result"
    }
   ],
   "source": [
    "df[crosses_zero]"
   ]
  },
  {
   "cell_type": "code",
   "execution_count": 102,
   "metadata": {},
   "outputs": [
    {
     "data": {
      "text/plain": [
       "array([  12,   14,  114,  122,  207,  221,  225,  230,  232,  244,  314,\n",
       "        352,  374,  392,  437,  473,  549,  615,  636,  671,  697,  706,\n",
       "        773,  786,  847,  873,  884,  902,  920,  957,  987, 1174, 1190,\n",
       "       1203, 1246, 1322, 1341, 1356, 1361, 1388, 1432, 1464, 1493, 1524,\n",
       "       1528, 1567, 1592, 1609, 1627, 1669, 1704, 1716, 1719, 1802, 1831,\n",
       "       1838, 1935, 2056, 2064, 2215, 2280, 2305, 2436, 2471, 2476, 2503,\n",
       "       2511, 2567, 2577, 2593, 2702, 2727, 2752, 2800, 2848, 2858, 2895,\n",
       "       2903, 2985, 2999, 3045, 3222, 3362, 3394, 3435, 3541, 3547, 3557,\n",
       "       3599, 3623, 3626, 3640, 3711, 3752, 3816, 3822, 3840, 3856, 3882,\n",
       "       3965, 4038, 4070, 4078, 4140, 4205, 4215, 4238, 4239, 4264, 4266,\n",
       "       4272, 4294, 4299, 4327, 4366, 4399, 4408, 4413, 4430, 4442, 4457,\n",
       "       4501, 4526, 4553, 4561, 4574, 4594, 4608, 4684, 4819, 4823, 4944,\n",
       "       4990, 5218, 5357, 5385, 5413, 5511, 5645, 5703, 5780, 5914, 5922,\n",
       "       5959, 5971, 5999, 6002, 6051, 6089, 6139, 6149, 6179, 6221, 6247,\n",
       "       6249, 6276, 6281, 6318, 6566, 6577, 6716, 6733, 6783, 6907, 6944,\n",
       "       6952, 6970, 6986, 7010, 7044, 7108, 7147, 7161, 7223, 7231, 7277,\n",
       "       7301, 7314, 7371, 7408, 7479, 7545, 7564, 7593, 7652, 7695, 7701,\n",
       "       7705, 7767, 7783, 7893, 7949, 8020, 7996, 8043, 8096, 8162, 8175,\n",
       "       8179, 8197, 8230, 8287, 8312, 8352, 8393, 8398, 8399, 8529, 8553,\n",
       "       8574])"
      ]
     },
     "execution_count": 102,
     "metadata": {},
     "output_type": "execute_result"
    }
   ],
   "source": [
    "ids_overlap_total"
   ]
  },
  {
   "cell_type": "code",
   "execution_count": 100,
   "metadata": {},
   "outputs": [
    {
     "data": {
      "text/plain": [
       "array([  12,   14,  114,  122,  207,  221,  225,  230,  232,  244,  314,\n",
       "        352,  374,  392,  437,  473,  549,  615,  636,  671,  697,  706,\n",
       "        773,  786,  847,  873,  884,  902,  920,  957,  987, 1174, 1190,\n",
       "       1203, 1246, 1322, 1341, 1356, 1361, 1388, 1432, 1464, 1493, 1524,\n",
       "       1528, 1567, 1592, 1609, 1627, 1669, 1704, 1716, 1719, 1802, 1831,\n",
       "       1838, 1935, 2056, 2064, 2215, 2280, 2305, 2436, 2471, 2476, 2503,\n",
       "       2511, 2567, 2577, 2593, 2702, 2727, 2752, 2800, 2848, 2858, 2895,\n",
       "       2903, 2985, 2999, 3045, 3222, 3362, 3394, 3435, 3541, 3547, 3557,\n",
       "       3599, 3623, 3626, 3640, 3711, 3752, 3816, 3822, 3840, 3856, 3882,\n",
       "       3965, 4038, 4070, 4078, 4140, 4205, 4215, 4238, 4239, 4264, 4266,\n",
       "       4272, 4294, 4299, 4327, 4366, 4399, 4408, 4413, 4430, 4442, 4457,\n",
       "       4501, 4526, 4553, 4561, 4574, 4594, 4608, 4684, 4819, 4823, 4944,\n",
       "       4990, 5218, 5357, 5385, 5413, 5511, 5645, 5703, 5780, 5914, 5922,\n",
       "       5959, 5971, 5999, 6002, 6051, 6089, 6139, 6149, 6179, 6221, 6247,\n",
       "       6249, 6276, 6281, 6318, 6566, 6577, 6716, 6733, 6783, 6907, 6944,\n",
       "       6952, 6970, 6986, 7010, 7044, 7108, 7147, 7161, 7223, 7231, 7277,\n",
       "       7301, 7314, 7371, 7408, 7479, 7545, 7564, 7593, 7652, 7695, 7701,\n",
       "       7705, 7767, 7783, 7893, 7949, 8020, 7996, 8043, 8096, 8162, 8175,\n",
       "       8179, 8197, 8230, 8287, 8312, 8352, 8393, 8398, 8399, 8529, 8553,\n",
       "       8574])"
      ]
     },
     "execution_count": 100,
     "metadata": {},
     "output_type": "execute_result"
    }
   ],
   "source": [
    "ids_overlap_total"
   ]
  },
  {
   "cell_type": "code",
   "execution_count": 11,
   "metadata": {},
   "outputs": [
    {
     "data": {
      "text/plain": [
       "[3143, 3145, 3148, 3149, 3154, <function id(obj, /)>]"
      ]
     },
     "execution_count": 11,
     "metadata": {},
     "output_type": "execute_result"
    }
   ],
   "source": [
    "ids_overlap"
   ]
  }
 ],
 "metadata": {
  "kernelspec": {
   "display_name": "base",
   "language": "python",
   "name": "python3"
  },
  "language_info": {
   "codemirror_mode": {
    "name": "ipython",
    "version": 3
   },
   "file_extension": ".py",
   "mimetype": "text/x-python",
   "name": "python",
   "nbconvert_exporter": "python",
   "pygments_lexer": "ipython3",
   "version": "3.11.5"
  }
 },
 "nbformat": 4,
 "nbformat_minor": 2
}
