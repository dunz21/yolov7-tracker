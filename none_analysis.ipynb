{
 "cells": [
  {
   "cell_type": "code",
   "execution_count": 3,
   "metadata": {},
   "outputs": [],
   "source": [
    "import numpy as np\n",
    "import torch\n",
    "import datetime\n",
    "import os\n",
    "import base64\n",
    "import pandas as pd\n",
    "from collections import Counter\n",
    "from tqdm import tqdm\n",
    "import sqlite3\n",
    "from utils.pipeline import get_files\n",
    "from utils.data_analysis import get_overlap_undefined,get_direction_info\n",
    "from utils.types import Direction\n",
    "# Set the maximum number of rows and columns to display\n",
    "pd.set_option('display.max_rows', 1000)  # Adjust the number as needed\n",
    "pd.set_option('display.max_columns', 1000)  # Adjust the number as needed\n",
    "\n",
    "files = get_files('/home/diego/Documents/yolov7-tracker/runs/detect/2024_04_17_conce_bytetrack')\n",
    "db = files['db']\n",
    "FRAME_NUMBER = 15\n",
    "conn = sqlite3.connect(db)\n",
    "bbox = pd.read_sql('SELECT * FROM bbox_raw', conn)\n",
    "bbox['direction'] = bbox.apply(lambda row: ('undefined' if row['img_name'].split('_')[3] == 'None' else  row['img_name'].split('_')[3]) if row['img_name'] is not None else None, axis=1)\n",
    "bbox['time_sec'] = bbox.apply(lambda row: int(row['frame_number']) // FRAME_NUMBER, axis=1)\n",
    "bbox['time_video'] = pd.to_datetime(bbox['time_sec'], unit='s').dt.time\n"
   ]
  },
  {
   "cell_type": "code",
   "execution_count": 2,
   "metadata": {},
   "outputs": [
    {
     "data": {
      "text/plain": [
       "{'undefined': 1466, 'out': 590, 'in': 565, 'cross': 64}"
      ]
     },
     "execution_count": 2,
     "metadata": {},
     "output_type": "execute_result"
    }
   ],
   "source": [
    "get_direction_info(bbox)"
   ]
  },
  {
   "cell_type": "code",
   "execution_count": 3,
   "metadata": {},
   "outputs": [],
   "source": [
    "overlap_results = get_overlap_undefined(bbox, 0,['undefined'])\n",
    "overlap_results.to_csv('overlap_results_undefined_2.csv', index=False)\n",
    "\n",
    "overlap_results = get_overlap_undefined(bbox, 0,[Direction.In.value, Direction.Out.value])\n",
    "overlap_results.to_csv('overlap_results_in_out_2.csv', index=False)"
   ]
  },
  {
   "cell_type": "code",
   "execution_count": null,
   "metadata": {},
   "outputs": [],
   "source": []
  },
  {
   "cell_type": "code",
   "execution_count": null,
   "metadata": {},
   "outputs": [],
   "source": [
    "overlap_results['overlap_type'].value_counts()"
   ]
  },
  {
   "cell_type": "code",
   "execution_count": null,
   "metadata": {},
   "outputs": [],
   "source": [
    "analysis.to_csv('analysis.csv', index=False)"
   ]
  },
  {
   "cell_type": "code",
   "execution_count": null,
   "metadata": {},
   "outputs": [],
   "source": []
  },
  {
   "cell_type": "code",
   "execution_count": null,
   "metadata": {},
   "outputs": [],
   "source": [
    "intervals = group_by_interval(filtered_df)\n",
    "total = count_ids_in_intervals(intervals)\n",
    "#print(total)\n",
    "\n",
    "with open('intervals.json', 'w') as f:\n",
    "\tf.write(str(intervals))\n",
    " \n",
    "with open('total.json', 'w') as f:\n",
    "\tf.write(str(total))"
   ]
  },
  {
   "cell_type": "code",
   "execution_count": null,
   "metadata": {},
   "outputs": [],
   "source": [
    "intervals[35750]"
   ]
  },
  {
   "cell_type": "code",
   "execution_count": null,
   "metadata": {},
   "outputs": [],
   "source": [
    "filtered_df.to_csv('bbox_2.csv', index=False)"
   ]
  },
  {
   "cell_type": "code",
   "execution_count": 22,
   "metadata": {},
   "outputs": [],
   "source": [
    "import matplotlib.pyplot as plt\n",
    "import matplotlib.colors as mcolors\n",
    "from scipy.stats import linregress\n",
    "\n",
    "\n",
    "def create_plot(df, primary_id,unique_ids, intersecting_id_colors=['green', 'orange', 'purple', 'cyan', 'magenta', 'yellow', 'brown']):\n",
    "    slopes = {}\n",
    "    for unique_id in unique_ids:\n",
    "        id_data = df[df['id'] == unique_id]\n",
    "        slope, intercept, r_value, p_value, std_err = linregress(id_data['frame_number'], id_data['distance_to_center'])\n",
    "        slopes[unique_id] = slope\n",
    "    # Create the figure and axis objects\n",
    "    fig, ax = plt.subplots(figsize=(10, 6))  # You can adjust the size as needed\n",
    "\n",
    "    # Filter the dataframe for the primary ID and sort it\n",
    "    df_primary_id = df[df['id'] == primary_id].sort_values(by='frame_number')\n",
    "\n",
    "    # Scatter plot for the primary ID with different colors for positive and negative distances\n",
    "    positive_distance = df_primary_id['distance_to_center'] > 0\n",
    "    ax.scatter(df_primary_id[positive_distance]['frame_number'], df_primary_id[positive_distance]['distance_to_center'],\n",
    "               c='blue', s=10, alpha=0.6, label=f'ID {primary_id} In')\n",
    "    ax.scatter(df_primary_id[~positive_distance]['frame_number'], df_primary_id[~positive_distance]['distance_to_center'],\n",
    "               c='red', s=10, alpha=0.6, label=f'ID {primary_id} Out')\n",
    "\n",
    "    # Calculate the time frame start and end\n",
    "    timeframe_start = df['frame_number'].min()\n",
    "    timeframe_end = df['frame_number'].max()\n",
    "\n",
    "    # Identify other intersecting IDs within this timeframe\n",
    "    intersecting_ids = df[(df['frame_number'] >= timeframe_start) & \n",
    "                          (df['frame_number'] <= timeframe_end) & \n",
    "                          (df['id'] != primary_id)]['id'].unique()\n",
    "\n",
    "    # Plot data for each intersecting ID within the timeframe\n",
    "    for idx, other_id in enumerate(intersecting_ids):\n",
    "        df_other_id = df[(df['id'] == other_id) & \n",
    "                         (df['frame_number'] >= timeframe_start) & \n",
    "                         (df['frame_number'] <= timeframe_end)]\n",
    "        color = intersecting_id_colors[idx % len(intersecting_id_colors)]\n",
    "        ax.scatter(df_other_id['frame_number'], df_other_id['distance_to_center'], \n",
    "                   c=color, s=20, edgecolor='k', label=f'ID {other_id}')\n",
    "    \n",
    "    # Plot formatting\n",
    "    ax.axhline(y=0, color='black', linestyle='--', linewidth=1)\n",
    "    ax.set_xlim(timeframe_start - 10, timeframe_end + 10)  # A little space around the edges\n",
    "    ax.set_ylim(df['distance_to_center'].min() - 10, df['distance_to_center'].max() + 10)\n",
    "\n",
    "    # Construct the title to include the ID and its timeframe\n",
    "    duration = timeframe_end - timeframe_start\n",
    "    title_text = f'ID {primary_id}: #{duration} '\n",
    "    ax.set_title(title_text, color='red')\n",
    "\n",
    "    ax.set_xlabel('Frame Number')\n",
    "    ax.set_ylabel('Distance to Center')\n",
    "    ax.legend(loc='upper left', fontsize='small')\n",
    "    slopes_text = ', '.join([f'{key}: {value:.3f}' for key, value in slopes.items()])\n",
    "    fig.text(0.5, 0.01, slopes_text, ha='center', va='center', fontsize=10, color='green', style='italic')  # Adjust the position and style as needed\n",
    "    \n",
    "    \n",
    "    \n",
    "    \n",
    "    plt.tight_layout()\n",
    "    plt.show()"
   ]
  },
  {
   "cell_type": "code",
   "execution_count": 23,
   "metadata": {},
   "outputs": [
    {
     "data": {
      "image/png": "[encoded data removed]",
      "text/plain": [
       "<Figure size 1000x600 with 1 Axes>"
      ]
     },
     "metadata": {},
     "output_type": "display_data"
    }
   ],
   "source": [
    "primary_id = 209\n",
    "query = 'SELECT * FROM overlap_results'\n",
    "overlap_results = pd.read_sql(query, conn)\n",
    "\n",
    "overlap_results_only_id = overlap_results[overlap_results['id'] == primary_id]\n",
    "ids_overlap = list(overlap_results_only_id['id_overlap'])\n",
    "ids_overlap.append(primary_id)  # Append the integer version of id\n",
    "\n",
    "query = 'SELECT id, distance_to_center, frame_number FROM bbox_raw WHERE id IN ({})'.format(', '.join(['?']*len(ids_overlap)))\n",
    "bbox2 = pd.read_sql(query, conn, params=ids_overlap)\n",
    "\n",
    "\n",
    "plot_path = create_plot(bbox2,primary_id, ids_overlap)"
   ]
  },
  {
   "cell_type": "code",
   "execution_count": null,
   "metadata": {},
   "outputs": [
    {
     "name": "stdout",
     "output_type": "stream",
     "text": [
      "<class 'pandas.core.frame.DataFrame'>\n",
      "RangeIndex: 991 entries, 0 to 990\n",
      "Data columns (total 3 columns):\n",
      " #   Column              Non-Null Count  Dtype  \n",
      "---  ------              --------------  -----  \n",
      " 0   id                  991 non-null    int64  \n",
      " 1   distance_to_center  991 non-null    float64\n",
      " 2   frame_number        991 non-null    int64  \n",
      "dtypes: float64(1), int64(2)\n",
      "memory usage: 23.4 KB\n"
     ]
    }
   ],
   "source": []
  },
  {
   "cell_type": "code",
   "execution_count": 11,
   "metadata": {},
   "outputs": [
    {
     "data": {
      "text/plain": [
       "[3143, 3145, 3148, 3149, 3154, <function id(obj, /)>]"
      ]
     },
     "execution_count": 11,
     "metadata": {},
     "output_type": "execute_result"
    }
   ],
   "source": [
    "ids_overlap"
   ]
  }
 ],
 "metadata": {
  "kernelspec": {
   "display_name": "base",
   "language": "python",
   "name": "python3"
  },
  "language_info": {
   "codemirror_mode": {
    "name": "ipython",
    "version": 3
   },
   "file_extension": ".py",
   "mimetype": "text/x-python",
   "name": "python",
   "nbconvert_exporter": "python",
   "pygments_lexer": "ipython3",
   "version": "3.11.5"
  }
 },
 "nbformat": 4,
 "nbformat_minor": 2
}
