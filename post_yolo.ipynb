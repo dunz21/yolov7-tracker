{
 "cells": [
  {
   "cell_type": "markdown",
   "metadata": {},
   "source": [
    "### Get bbox area [Clean Up 1 and Clean up 2]"
   ]
  },
  {
   "cell_type": "code",
   "execution_count": 43,
   "metadata": {},
   "outputs": [],
   "source": [
    "import sqlite3\n",
    "import matplotlib.pyplot as plt\n",
    "import pandas as pd\n",
    "import numpy as np\n",
    "\n",
    "def list_ids_to_remove_based_on_area(df, plot=False):\n",
    "    if plot:\n",
    "        plt.figure(figsize=(10, 6))\n",
    "        plt.hist(df['area'], bins=30, edgecolor='black')\n",
    "        plt.title('Histogram of Area')\n",
    "        plt.xlabel('Area')\n",
    "        plt.ylabel('Frequency')\n",
    "        plt.grid(True)\n",
    "        plt.show()\n",
    "  \n",
    "\n",
    "    hist, bin_edges = np.histogram(df['area'], bins=30)\n",
    "\n",
    "    # Find the bin with the highest frequency\n",
    "    max_bin_index = np.argmax(hist)\n",
    "    most_frequent_bin_start = bin_edges[max_bin_index]\n",
    "    most_frequent_bin_end = bin_edges[max_bin_index + 1]\n",
    "\n",
    "    # Filter the DataFrame to get the rows that fall into the most frequent bin\n",
    "    most_frequent_areas = df[(df['area'] >= most_frequent_bin_start) & (df['area'] < most_frequent_bin_end)]\n",
    "\n",
    "    # Get the unique IDs associated with these areas\n",
    "    unique_ids = most_frequent_areas['id'].unique()\n",
    "    filtered_results = df[~df['id'].isin(unique_ids)]\n",
    "    return filtered_results, unique_ids\n",
    "\n",
    "\n",
    "def list_ids_to_remove_based_on_movement(df, plot_histogram=False, threshold=100):\n",
    "    df = df.sort_values(by=['id', 'frame_number'])\n",
    "    df['centroid_x_shift'] = df.groupby('id')['centroid_x'].shift(1)\n",
    "    df['centroid_y_shift'] = df.groupby('id')['centroid_y'].shift(1)\n",
    "    \n",
    "    df['movement'] = np.sqrt((df['centroid_x'] - df['centroid_x_shift'])**2 + \n",
    "                             (df['centroid_y'] - df['centroid_y_shift'])**2)\n",
    "    \n",
    "    df['movement'] = df['movement'].fillna(0)\n",
    "    total_movement_df = df.groupby('id')['movement'].sum().reset_index()\n",
    "    total_movement_df.columns = ['id', 'total_movement']\n",
    "    \n",
    "    if plot_histogram:\n",
    "        #Visualize the distribution of total movement\n",
    "        plt.figure(figsize=(10, 6))\n",
    "        plt.hist(total_movement_df['total_movement'], bins=30, edgecolor='black')\n",
    "        plt.title('Distribution of Total Movement per ID')\n",
    "        plt.xlabel('Total Movement')\n",
    "        plt.ylabel('Frequency')\n",
    "        plt.grid(True)\n",
    "        plt.show()\n",
    "  \n",
    "    low_movement_ids = total_movement_df[total_movement_df['total_movement'] < threshold]['id']\n",
    "    list_ids_to_remove = low_movement_ids.to_list()\n",
    "    \n",
    "    \n",
    "    filtered_df = df[~df['id'].isin(low_movement_ids)]\n",
    "    \n",
    "    return filtered_df,list_ids_to_remove\n"
   ]
  },
  {
   "cell_type": "markdown",
   "metadata": {},
   "source": [
    "### Execute clean up 1 and 2"
   ]
  },
  {
   "cell_type": "code",
   "execution_count": 48,
   "metadata": {},
   "outputs": [
    {
     "name": "stdout",
     "output_type": "stream",
     "text": [
      "Initial number of IDs: 3348\n",
      "Number of IDs after removing low area IDs: 968 and IDs were removed: 2380\n",
      "Number of IDs after removing low movement IDs: 589 and IDs were removed: 379\n"
     ]
    }
   ],
   "source": [
    "results = pd.read_csv('/home/diego/mydrive/results/1/3/1/tobalaba_entrada_20240604_1000/tobalaba_entrada_20240604_1000_bbox.csv')\n",
    "\n",
    "initial_list_ids = results['id'].unique()\n",
    "print('Initial number of IDs:', len(initial_list_ids))\n",
    "\n",
    "df,list_ids = list_ids_to_remove_based_on_area(results, plot=False)\n",
    "print('Number of IDs after removing low area IDs:', len(df['id'].unique()),'and IDs were removed:', len(list_ids))\n",
    "\n",
    "total_movement_df,list_ids_to_remove  = list_ids_to_remove_based_on_movement(df, plot_histogram=False, threshold=100)\n",
    "\n",
    "print('Number of IDs after removing low movement IDs:', len(total_movement_df['id'].unique()), 'and IDs were removed:', len(list_ids_to_remove))"
   ]
  },
  {
   "cell_type": "markdown",
   "metadata": {},
   "source": [
    "### Version 1 simple travel all video (From CSV to IMGs)"
   ]
  },
  {
   "cell_type": "code",
   "execution_count": 22,
   "metadata": {},
   "outputs": [
    {
     "name": "stderr",
     "output_type": "stream",
     "text": [
      "Processing frames: 30711it [01:13, 415.41it/s]                           "
     ]
    },
    {
     "name": "stdout",
     "output_type": "stream",
     "text": [
      "Image extraction completed!\n"
     ]
    },
    {
     "name": "stderr",
     "output_type": "stream",
     "text": [
      "\n"
     ]
    }
   ],
   "source": [
    "import pandas as pd\n",
    "import cv2\n",
    "import os\n",
    "from tqdm import tqdm\n",
    "\n",
    "def generate_img_by_bbox(csv_path, video_path, img_path, skip_frames=3, show_progress=True):\n",
    "    # Load CSV data\n",
    "    df = pd.read_csv(csv_path,nrows=1000)\n",
    "    max_frame_number = df['frame_number'].max()\n",
    "    \n",
    "    # Open video file\n",
    "    cap = cv2.VideoCapture(video_path)\n",
    "    \n",
    "    # Create the base folder for generated images\n",
    "    img_generated_path = os.path.join(img_path, 'img_generated_1')\n",
    "    os.makedirs(img_generated_path, exist_ok=True)\n",
    "    \n",
    "    current_frame = 0\n",
    "    if show_progress:\n",
    "        progress_bar = tqdm(total=max_frame_number, desc=\"Processing frames\")\n",
    "\n",
    "    while cap.isOpened():\n",
    "        ret, frame = cap.read()\n",
    "        if not ret:\n",
    "            break\n",
    "        \n",
    "        if current_frame > max_frame_number:\n",
    "            break\n",
    "        \n",
    "        if current_frame % skip_frames == 0:\n",
    "            if show_progress:\n",
    "                progress_bar.update(skip_frames)\n",
    "            \n",
    "            # Process each row in the DataFrame for the current frame\n",
    "            frame_data = df[df['frame_number'] == current_frame]\n",
    "            \n",
    "            for _, row in frame_data.iterrows():\n",
    "                img_id = row['id']\n",
    "                x1, y1, x2, y2 = int(row['x1']), int(row['y1']), int(row['x2']), int(row['y2'])\n",
    "                \n",
    "                # Extract the image using bounding box coordinates\n",
    "                cropped_img = frame[y1:y2, x1:x2]\n",
    "                \n",
    "                # Create a directory for the current id if it doesn't exist\n",
    "                id_folder = os.path.join(img_generated_path, str(img_id))\n",
    "                os.makedirs(id_folder, exist_ok=True)\n",
    "                \n",
    "                # Save the image\n",
    "                img_filename = f\"{current_frame}_{x1}_{y1}_{x2}_{y2}.jpg\"\n",
    "                img_save_path = os.path.join(id_folder, img_filename)\n",
    "                cv2.imwrite(img_save_path, cropped_img)\n",
    "        \n",
    "        current_frame += 1\n",
    "    \n",
    "    cap.release()\n",
    "    if show_progress:\n",
    "        progress_bar.close()\n",
    "    print(\"Image extraction completed!\")\n",
    "\n",
    "# Example usage\n",
    "csv_path = '/home/diego/mydrive/results/1/3/1/tobalaba_entrada_20240604_1000/tobalaba_entrada_20240604_1000_bbox_filtered.csv'\n",
    "video_path = '/home/diego/mydrive/footage/1/3/1/tobalaba_entrada_20240604_1000.mkv'\n",
    "img_path = '/home/diego/mydrive/results/1/3/1/tobalaba_entrada_20240604_1000/'\n",
    "generate_img_by_bbox(csv_path, video_path, img_path, skip_frames=3)"
   ]
  },
  {
   "cell_type": "markdown",
   "metadata": {},
   "source": [
    "### Version 2 Optimizada Testear con mp4 (From CSV to IMGs)"
   ]
  },
  {
   "cell_type": "code",
   "execution_count": 20,
   "metadata": {},
   "outputs": [
    {
     "name": "stdout",
     "output_type": "stream",
     "text": [
      "Image extraction completed!\n"
     ]
    }
   ],
   "source": [
    "import pandas as pd\n",
    "import cv2\n",
    "import os\n",
    "\n",
    "def generate_img_by_bbox(csv_path, video_path, img_path, skip_frames=3):\n",
    "    # Load CSV data\n",
    "    df = pd.read_csv(csv_path, nrows=1000)\n",
    "    \n",
    "    # Open video file\n",
    "    cap = cv2.VideoCapture(video_path)\n",
    "    \n",
    "    # Create the base folder for generated images\n",
    "    img_generated_path = os.path.join(img_path, 'img_generated')\n",
    "    os.makedirs(img_generated_path, exist_ok=True)\n",
    "    \n",
    "    # Get total number of frames in the video\n",
    "    total_frames = int(cap.get(cv2.CAP_PROP_FRAME_COUNT))\n",
    "    \n",
    "    for index, row in df.iterrows():\n",
    "        frame_number = row['frame_number']\n",
    "        \n",
    "        # Skip frames according to the skip_frames parameter\n",
    "        if frame_number % skip_frames != 0:\n",
    "            continue\n",
    "        \n",
    "        # Check if the frame_number is within the total frames\n",
    "        if frame_number >= total_frames:\n",
    "            continue\n",
    "        \n",
    "        # Seek to the frame\n",
    "        cap.set(cv2.CAP_PROP_POS_FRAMES, frame_number)\n",
    "        \n",
    "        # Read the frame\n",
    "        ret, frame = cap.read()\n",
    "        if not ret:\n",
    "            print(f\"Warning: Could not read frame {frame_number}\")\n",
    "            continue\n",
    "        \n",
    "        # Verify the frame number\n",
    "        current_frame = int(cap.get(cv2.CAP_PROP_POS_FRAMES))\n",
    "        if current_frame != frame_number + 1:\n",
    "            print(f\"Warning: Expected frame {frame_number} but got frame {current_frame-1}\")\n",
    "            continue\n",
    "        \n",
    "        # Process all rows with the same frame number\n",
    "        frame_data = df[df['frame_number'] == frame_number]\n",
    "        for _, row in frame_data.iterrows():\n",
    "            img_id = row['id']\n",
    "            x1, y1, x2, y2 = int(row['x1']), int(row['y1']), int(row['x2']), int(row['y2'])\n",
    "            \n",
    "            # Extract the image using bounding box coordinates\n",
    "            cropped_img = frame[y1:y2, x1:x2]\n",
    "            \n",
    "            # Create a directory for the current id if it doesn't exist\n",
    "            id_folder = os.path.join(img_generated_path, str(img_id))\n",
    "            os.makedirs(id_folder, exist_ok=True)\n",
    "            \n",
    "            # Save the image\n",
    "            img_filename = f\"{frame_number}_{x1}_{y1}_{x2}_{y2}.jpg\"\n",
    "            img_save_path = os.path.join(id_folder, img_filename)\n",
    "            cv2.imwrite(img_save_path, cropped_img)\n",
    "    \n",
    "    cap.release()\n",
    "    print(\"Image extraction completed!\")\n",
    "\n",
    "# Example usage\n",
    "csv_path = '/home/diego/mydrive/results/1/3/1/tobalaba_entrada_20240604_1000/tobalaba_entrada_20240604_1000_bbox_filtered.csv'\n",
    "video_path = '/home/diego/mydrive/footage/1/3/1/tobalaba_entrada_20240604_1000.mkv'\n",
    "img_path = '/home/diego/mydrive/results/1/3/1/tobalaba_entrada_20240604_1000/'\n",
    "generate_img_by_bbox(csv_path, video_path, img_path, skip_frames=3)"
   ]
  },
  {
   "cell_type": "code",
   "execution_count": 32,
   "metadata": {},
   "outputs": [],
   "source": []
  },
  {
   "cell_type": "markdown",
   "metadata": {},
   "source": [
    "### Be able to see images that has low movemenent [Clean Up 2 Debugger] "
   ]
  },
  {
   "cell_type": "code",
   "execution_count": null,
   "metadata": {},
   "outputs": [],
   "source": [
    "import os\n",
    "import random\n",
    "import matplotlib.pyplot as plt\n",
    "import cv2\n",
    "\n",
    "\n",
    "# FOR DEBUG IMAGES\n",
    "def view_imgs_by_list_id(list_ids, img_path_folder, img_size=(50, 50), grid_columns=20):\n",
    "    images = []\n",
    "    ids = []\n",
    "    \n",
    "    for img_id in list_ids:\n",
    "        id_folder = os.path.join(img_path_folder, str(img_id))\n",
    "        if not os.path.exists(id_folder):\n",
    "            continue\n",
    "        \n",
    "        img_files = os.listdir(id_folder)\n",
    "        if not img_files:\n",
    "            continue\n",
    "        \n",
    "        # Randomly pick one image from the folder\n",
    "        img_file = random.choice(img_files)\n",
    "        img_file_path = os.path.join(id_folder, img_file)\n",
    "        \n",
    "        # Read and resize the image\n",
    "        img = cv2.imread(img_file_path)\n",
    "        if img is None:\n",
    "            continue\n",
    "        img = cv2.resize(img, img_size)\n",
    "        img = cv2.cvtColor(img, cv2.COLOR_BGR2RGB)  # Convert to RGB for matplotlib\n",
    "        \n",
    "        images.append(img)\n",
    "        ids.append(img_id)\n",
    "    \n",
    "    # Determine the grid size\n",
    "    grid_rows = len(images) // grid_columns + 1\n",
    "    \n",
    "    # Create the plot\n",
    "    fig, axes = plt.subplots(grid_rows, grid_columns, figsize=(grid_columns, grid_rows))\n",
    "    fig.subplots_adjust(hspace=0.4, wspace=0.4)\n",
    "    \n",
    "    # Plot the images\n",
    "    for i, ax in enumerate(axes.flat):\n",
    "        if i < len(images):\n",
    "            ax.imshow(images[i])\n",
    "            ax.axis('off')\n",
    "            ax.set_title(str(ids[i]), fontsize=8)\n",
    "        else:\n",
    "            ax.axis('off')\n",
    "    \n",
    "    plt.show()\n",
    "\n",
    "# Example usage\n",
    "list_ids = list_ids_to_remove\n",
    "img_path = '/home/diego/mydrive/results/1/3/1/tobalaba_entrada_20240604_1000/imgs'\n",
    "view_imgs_by_list_id(list_ids, img_path, img_size=(50, 50), grid_columns=20)\n"
   ]
  }
 ],
 "metadata": {
  "kernelspec": {
   "display_name": "base",
   "language": "python",
   "name": "python3"
  },
  "language_info": {
   "codemirror_mode": {
    "name": "ipython",
    "version": 3
   },
   "file_extension": ".py",
   "mimetype": "text/x-python",
   "name": "python",
   "nbconvert_exporter": "python",
   "pygments_lexer": "ipython3",
   "version": "3.11.5"
  }
 },
 "nbformat": 4,
 "nbformat_minor": 2
}
