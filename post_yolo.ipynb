{
 "cells": [
  {
   "cell_type": "markdown",
   "metadata": {},
   "source": [
    "### Get bbox area [Clean Up 1]"
   ]
  },
  {
   "cell_type": "code",
   "execution_count": 11,
   "metadata": {},
   "outputs": [
    {
     "name": "stdout",
     "output_type": "stream",
     "text": [
      "3354\n"
     ]
    }
   ],
   "source": [
    "import sqlite3\n",
    "import matplotlib.pyplot as plt\n",
    "import pandas as pd\n",
    "import numpy as np\n",
    "\n",
    "def get_db_connection(path_to_db):\n",
    "    conn = sqlite3.connect(path_to_db)\n",
    "    conn.row_factory = sqlite3.Row\n",
    "    return conn\n",
    "\n",
    "\n",
    "db = get_db_connection('/home/diego/mydrive/results/1/3/1/tobalaba_entrada_20240604_1000/tobalaba_entrada_20240604_1000_bbox.db')\n",
    "query = \"SELECT * from bbox_raw\"\n",
    "results = pd.read_sql(query, db)\n",
    "\n",
    "# Index(['id', 'x1', 'y1', 'x2', 'y2', 'centroid_x', 'centroid_y', 'area',\n",
    "#        'frame_number', 'time_sec', 'time_video', 'overlap',\n",
    "#        'distance_to_center', 'direction', 'conf_score', 'img_name'],\n",
    "#       dtype='object')\n",
    "\n",
    "# plt.figure(figsize=(10, 6))\n",
    "# plt.hist(results['area'], bins=30, edgecolor='black')\n",
    "# plt.title('Histogram of Area')\n",
    "# plt.xlabel('Area')\n",
    "# plt.ylabel('Frequency')\n",
    "# plt.grid(True)\n",
    "# plt.show()\n",
    "\n",
    "uniques_ids = results['id'].unique()\n",
    "print(len(uniques_ids))\n",
    "\n",
    "\n",
    "hist, bin_edges = np.histogram(results['area'], bins=30)\n",
    "\n",
    "# Find the bin with the highest frequency\n",
    "max_bin_index = np.argmax(hist)\n",
    "most_frequent_bin_start = bin_edges[max_bin_index]\n",
    "most_frequent_bin_end = bin_edges[max_bin_index + 1]\n",
    "\n",
    "# Filter the DataFrame to get the rows that fall into the most frequent bin\n",
    "most_frequent_areas = results[(results['area'] >= most_frequent_bin_start) & (results['area'] < most_frequent_bin_end)]\n",
    "\n",
    "# Get the unique IDs associated with these areas\n",
    "unique_ids = most_frequent_areas['id'].unique()\n",
    "\n",
    "# Remove rows with these unique IDs\n",
    "filtered_results = results[~results['id'].isin(unique_ids)]\n",
    "\n",
    "new_csv = filtered_results.to_csv('/home/diego/mydrive/results/1/3/1/tobalaba_entrada_20240604_1000/tobalaba_entrada_20240604_1000_bbox_filtered.csv', index=False)\n",
    "\n",
    "# Print or return the unique IDs\n",
    "# print(unique_ids.tolist())\n",
    "# print(len(unique_ids))"
   ]
  },
  {
   "cell_type": "markdown",
   "metadata": {},
   "source": [
    "### Version 1 simple travel all video"
   ]
  },
  {
   "cell_type": "code",
   "execution_count": 22,
   "metadata": {},
   "outputs": [
    {
     "name": "stderr",
     "output_type": "stream",
     "text": [
      "Processing frames: 30711it [01:13, 415.41it/s]                           "
     ]
    },
    {
     "name": "stdout",
     "output_type": "stream",
     "text": [
      "Image extraction completed!\n"
     ]
    },
    {
     "name": "stderr",
     "output_type": "stream",
     "text": [
      "\n"
     ]
    }
   ],
   "source": [
    "import pandas as pd\n",
    "import cv2\n",
    "import os\n",
    "from tqdm import tqdm\n",
    "\n",
    "def generate_img_by_bbox(csv_path, video_path, img_path, skip_frames=3, show_progress=True):\n",
    "    # Load CSV data\n",
    "    df = pd.read_csv(csv_path,nrows=1000)\n",
    "    max_frame_number = df['frame_number'].max()\n",
    "    \n",
    "    # Open video file\n",
    "    cap = cv2.VideoCapture(video_path)\n",
    "    \n",
    "    # Create the base folder for generated images\n",
    "    img_generated_path = os.path.join(img_path, 'img_generated_1')\n",
    "    os.makedirs(img_generated_path, exist_ok=True)\n",
    "    \n",
    "    current_frame = 0\n",
    "    if show_progress:\n",
    "        progress_bar = tqdm(total=max_frame_number, desc=\"Processing frames\")\n",
    "\n",
    "    while cap.isOpened():\n",
    "        ret, frame = cap.read()\n",
    "        if not ret:\n",
    "            break\n",
    "        \n",
    "        if current_frame > max_frame_number:\n",
    "            break\n",
    "        \n",
    "        if current_frame % skip_frames == 0:\n",
    "            if show_progress:\n",
    "                progress_bar.update(skip_frames)\n",
    "            \n",
    "            # Process each row in the DataFrame for the current frame\n",
    "            frame_data = df[df['frame_number'] == current_frame]\n",
    "            \n",
    "            for _, row in frame_data.iterrows():\n",
    "                img_id = row['id']\n",
    "                x1, y1, x2, y2 = int(row['x1']), int(row['y1']), int(row['x2']), int(row['y2'])\n",
    "                \n",
    "                # Extract the image using bounding box coordinates\n",
    "                cropped_img = frame[y1:y2, x1:x2]\n",
    "                \n",
    "                # Create a directory for the current id if it doesn't exist\n",
    "                id_folder = os.path.join(img_generated_path, str(img_id))\n",
    "                os.makedirs(id_folder, exist_ok=True)\n",
    "                \n",
    "                # Save the image\n",
    "                img_filename = f\"{current_frame}_{x1}_{y1}_{x2}_{y2}.jpg\"\n",
    "                img_save_path = os.path.join(id_folder, img_filename)\n",
    "                cv2.imwrite(img_save_path, cropped_img)\n",
    "        \n",
    "        current_frame += 1\n",
    "    \n",
    "    cap.release()\n",
    "    if show_progress:\n",
    "        progress_bar.close()\n",
    "    print(\"Image extraction completed!\")\n",
    "\n",
    "# Example usage\n",
    "csv_path = '/home/diego/mydrive/results/1/3/1/tobalaba_entrada_20240604_1000/tobalaba_entrada_20240604_1000_bbox_filtered.csv'\n",
    "video_path = '/home/diego/mydrive/footage/1/3/1/tobalaba_entrada_20240604_1000.mkv'\n",
    "img_path = '/home/diego/mydrive/results/1/3/1/tobalaba_entrada_20240604_1000/'\n",
    "generate_img_by_bbox(csv_path, video_path, img_path, skip_frames=3)"
   ]
  },
  {
   "cell_type": "markdown",
   "metadata": {},
   "source": [
    "### Version 2 Optimizada Testear con mp4"
   ]
  },
  {
   "cell_type": "code",
   "execution_count": 20,
   "metadata": {},
   "outputs": [
    {
     "name": "stdout",
     "output_type": "stream",
     "text": [
      "Image extraction completed!\n"
     ]
    }
   ],
   "source": [
    "import pandas as pd\n",
    "import cv2\n",
    "import os\n",
    "\n",
    "def generate_img_by_bbox(csv_path, video_path, img_path, skip_frames=3):\n",
    "    # Load CSV data\n",
    "    df = pd.read_csv(csv_path, nrows=1000)\n",
    "    \n",
    "    # Open video file\n",
    "    cap = cv2.VideoCapture(video_path)\n",
    "    \n",
    "    # Create the base folder for generated images\n",
    "    img_generated_path = os.path.join(img_path, 'img_generated')\n",
    "    os.makedirs(img_generated_path, exist_ok=True)\n",
    "    \n",
    "    # Get total number of frames in the video\n",
    "    total_frames = int(cap.get(cv2.CAP_PROP_FRAME_COUNT))\n",
    "    \n",
    "    for index, row in df.iterrows():\n",
    "        frame_number = row['frame_number']\n",
    "        \n",
    "        # Skip frames according to the skip_frames parameter\n",
    "        if frame_number % skip_frames != 0:\n",
    "            continue\n",
    "        \n",
    "        # Check if the frame_number is within the total frames\n",
    "        if frame_number >= total_frames:\n",
    "            continue\n",
    "        \n",
    "        # Seek to the frame\n",
    "        cap.set(cv2.CAP_PROP_POS_FRAMES, frame_number)\n",
    "        \n",
    "        # Read the frame\n",
    "        ret, frame = cap.read()\n",
    "        if not ret:\n",
    "            print(f\"Warning: Could not read frame {frame_number}\")\n",
    "            continue\n",
    "        \n",
    "        # Verify the frame number\n",
    "        current_frame = int(cap.get(cv2.CAP_PROP_POS_FRAMES))\n",
    "        if current_frame != frame_number + 1:\n",
    "            print(f\"Warning: Expected frame {frame_number} but got frame {current_frame-1}\")\n",
    "            continue\n",
    "        \n",
    "        # Process all rows with the same frame number\n",
    "        frame_data = df[df['frame_number'] == frame_number]\n",
    "        for _, row in frame_data.iterrows():\n",
    "            img_id = row['id']\n",
    "            x1, y1, x2, y2 = int(row['x1']), int(row['y1']), int(row['x2']), int(row['y2'])\n",
    "            \n",
    "            # Extract the image using bounding box coordinates\n",
    "            cropped_img = frame[y1:y2, x1:x2]\n",
    "            \n",
    "            # Create a directory for the current id if it doesn't exist\n",
    "            id_folder = os.path.join(img_generated_path, str(img_id))\n",
    "            os.makedirs(id_folder, exist_ok=True)\n",
    "            \n",
    "            # Save the image\n",
    "            img_filename = f\"{frame_number}_{x1}_{y1}_{x2}_{y2}.jpg\"\n",
    "            img_save_path = os.path.join(id_folder, img_filename)\n",
    "            cv2.imwrite(img_save_path, cropped_img)\n",
    "    \n",
    "    cap.release()\n",
    "    print(\"Image extraction completed!\")\n",
    "\n",
    "# Example usage\n",
    "csv_path = '/home/diego/mydrive/results/1/3/1/tobalaba_entrada_20240604_1000/tobalaba_entrada_20240604_1000_bbox_filtered.csv'\n",
    "video_path = '/home/diego/mydrive/footage/1/3/1/tobalaba_entrada_20240604_1000.mkv'\n",
    "img_path = '/home/diego/mydrive/results/1/3/1/tobalaba_entrada_20240604_1000/'\n",
    "generate_img_by_bbox(csv_path, video_path, img_path, skip_frames=3)"
   ]
  },
  {
   "cell_type": "markdown",
   "metadata": {},
   "source": [
    "### Clean UP IDs without movements [Clean Up 2]"
   ]
  },
  {
   "cell_type": "code",
   "execution_count": null,
   "metadata": {},
   "outputs": [],
   "source": [
    "import pandas as pd\n",
    "import numpy as np\n",
    "import matplotlib.pyplot as plt\n",
    "\n",
    "def calculate_movement(df):\n",
    "    df = df.sort_values(by=['id', 'frame_number'])\n",
    "    df['centroid_x_shift'] = df.groupby('id')['centroid_x'].shift(1)\n",
    "    df['centroid_y_shift'] = df.groupby('id')['centroid_y'].shift(1)\n",
    "    \n",
    "    df['movement'] = np.sqrt((df['centroid_x'] - df['centroid_x_shift'])**2 + \n",
    "                             (df['centroid_y'] - df['centroid_y_shift'])**2)\n",
    "    \n",
    "    df['movement'] = df['movement'].fillna(0)\n",
    "    total_movement_df = df.groupby('id')['movement'].sum().reset_index()\n",
    "    total_movement_df.columns = ['id', 'total_movement']\n",
    "    \n",
    "    return total_movement_df\n",
    "\n",
    "# Load CSV data\n",
    "csv_path = '/home/diego/mydrive/results/1/3/1/tobalaba_entrada_20240604_1000/tobalaba_entrada_20240604_1000_bbox_filtered.csv'\n",
    "img_folder = '/home/diego/mydrive/results/1/3/1/tobalaba_entrada_20240604_1000/imgs'\n",
    "df = pd.read_csv(csv_path)\n",
    "\n",
    "# Calculate total movement\n",
    "total_movement_df = calculate_movement(df)\n",
    "\n",
    "# Visualize the distribution of total movement\n",
    "plt.figure(figsize=(10, 6))\n",
    "plt.hist(total_movement_df['total_movement'], bins=30, edgecolor='black')\n",
    "plt.title('Distribution of Total Movement per ID')\n",
    "plt.xlabel('Total Movement')\n",
    "plt.ylabel('Frequency')\n",
    "plt.grid(True)\n",
    "plt.show()\n",
    "\n",
    "# Define a threshold for low movement (adjust based on visualization)\n",
    "threshold = 100\n",
    "\n",
    "# Filter out IDs with movement below the threshold\n",
    "low_movement_ids = total_movement_df[total_movement_df['total_movement'] < threshold]['id']\n",
    "\n",
    "# Filter the original DataFrame to remove these IDs\n",
    "filtered_df = df[~df['id'].isin(low_movement_ids)]\n",
    "\n",
    "# Verify the filtering\n",
    "print(f\"Number of low movement IDs removed: {len(low_movement_ids)}\")\n",
    "print(f\"Original DataFrame size: {df.shape}\")\n",
    "print(f\"Filtered DataFrame size: {filtered_df.shape}\")\n"
   ]
  },
  {
   "cell_type": "markdown",
   "metadata": {},
   "source": [
    "### Be able to see images that has low movemenent [Clean Up 2 Viewer] "
   ]
  },
  {
   "cell_type": "markdown",
   "metadata": {},
   "source": []
  }
 ],
 "metadata": {
  "kernelspec": {
   "display_name": "base",
   "language": "python",
   "name": "python3"
  },
  "language_info": {
   "codemirror_mode": {
    "name": "ipython",
    "version": 3
   },
   "file_extension": ".py",
   "mimetype": "text/x-python",
   "name": "python",
   "nbconvert_exporter": "python",
   "pygments_lexer": "ipython3",
   "version": "3.11.5"
  }
 },
 "nbformat": 4,
 "nbformat_minor": 2
}
