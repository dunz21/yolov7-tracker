{
 "cells": [
  {
   "cell_type": "markdown",
   "metadata": {},
   "source": [
    "### Select 4 best images from all images"
   ]
  },
  {
   "cell_type": "code",
   "execution_count": 5,
   "metadata": {},
   "outputs": [
    {
     "name": "stderr",
     "output_type": "stream",
     "text": [
      "/tmp/ipykernel_16861/2554583309.py:38: SettingWithCopyWarning: \n",
      "A value is trying to be set on a copy of a slice from a DataFrame\n",
      "\n",
      "See the caveats in the documentation: https://pandas.pydata.org/pandas-docs/stable/user_guide/indexing.html#returning-a-view-versus-a-copy\n",
      "  filtered_df.sort_values(by=['id', 'frame_number'], inplace=True)\n"
     ]
    }
   ],
   "source": [
    "import os\n",
    "import pandas as pd\n",
    "import numpy as np\n",
    "from sklearn.model_selection import KFold\n",
    "import shutil\n",
    "\n",
    "#TODO: Transform to a function\n",
    "## predict_csv\n",
    "## base_folder_images\n",
    "## dest_folder_results\n",
    "## save_csv_file_name\n",
    "## k_fold\n",
    "\n",
    "\n",
    "BASE_FOLDER_NAME = 'results'\n",
    "FOLDER_PATH_IMGS = '/home/diego/Documents/yolov7-tracker/imgs_santos_dumont/'\n",
    "K_FOLD = 4\n",
    "DEST_FOLDER_PATH_IMGS = f'/home/diego/Documents/yolov7-tracker/imgs_santos_dumont_top{K_FOLD}/'\n",
    "MODEL_RESULT = os.path.join(BASE_FOLDER_NAME, 'total_model_img_selction_conce_bbox.csv')\n",
    "THRESHOLD = 0.9\n",
    "\n",
    "df = pd.read_csv('/home/diego/Documents/yolov7-tracker/logs/santos_dumont_bbox_img_selection_predicted.csv')\n",
    "\n",
    "# Correctly format 'model_label_conf' with 2 decimal places\n",
    "# df['model_label_conf'] = df['model_label_conf'].round(2)\n",
    "\n",
    "\n",
    "df['new_k_fold'] = None\n",
    "df['selected_image'] = False\n",
    "\n",
    "# Saco los IDs correspondientes a los BAD\n",
    "# bad_ids = df[df['label_direction'] == 'BAD']['id'].unique()\n",
    "# filtered_df = df[~df['id'].isin(bad_ids)]\n",
    "\n",
    "filtered_df = df.dropna(subset='img_name')\n",
    "\n",
    "# Order by id and frame_number\n",
    "filtered_df.sort_values(by=['id', 'frame_number'], inplace=True)\n",
    "\n",
    "# Ensure the destination folder exists\n",
    "if not os.path.exists(DEST_FOLDER_PATH_IMGS):\n",
    "    os.makedirs(DEST_FOLDER_PATH_IMGS)\n",
    "\n",
    "# Function to move selected images\n",
    "def copy_images(row):\n",
    "    source_path = os.path.join(FOLDER_PATH_IMGS, row['img_name'].split('_')[1], row['img_name'])\n",
    "    dest_path = source_path.replace(FOLDER_PATH_IMGS, DEST_FOLDER_PATH_IMGS)\n",
    "    os.makedirs(os.path.dirname(dest_path), exist_ok=True)\n",
    "    shutil.copy(source_path, dest_path)  # Use shutil.copy instead of shutil.move\n",
    "\n",
    "# Iterate over each unique id\n",
    "for id_value in filtered_df['id'].unique():\n",
    "    id_df = filtered_df[filtered_df['id'] == id_value]\n",
    "    \n",
    "    # Adjust threshold if necessary\n",
    "    while True:\n",
    "        filtered_id_df = id_df[(id_df['model_label_conf'] > THRESHOLD) & (id_df['model_label_img'] == 2)].copy()\n",
    "        \n",
    "        if len(filtered_id_df) >= K_FOLD or THRESHOLD <= 0:\n",
    "            break\n",
    "        THRESHOLD -= 0.05\n",
    "    \n",
    "    # If we have enough images, perform K-Fold and select one image per fold\n",
    "    if len(filtered_id_df) >= K_FOLD:\n",
    "        kf = KFold(n_splits=K_FOLD)\n",
    "        \n",
    "        for fold_number, (_, test_index) in enumerate(kf.split(filtered_id_df), start=1):\n",
    "\n",
    "            # selected_indices = np.random.choice(test_index, 1, replace=False)\n",
    "\n",
    "            fold_df = filtered_id_df.iloc[test_index]\n",
    "            selected_row = fold_df.sample(n=1)\n",
    "            selected_index = selected_row.index\n",
    "            \n",
    "            # Update the DataFrame with fold and selection information\n",
    "            df.loc[selected_index, 'new_k_fold'] = fold_number\n",
    "            df.loc[selected_index, 'selected_image'] = True\n",
    "            \n",
    "            # Move the selected image\n",
    "            selected_row.apply(copy_images, axis=1) # Descomentar para hacerlo funcionar con la copia de imagenes\n",
    "\n",
    "# Optionally, save the updated DataFrame to a CSV file\n",
    "# df.to_csv('results/updated_model_results_with_kfold.csv', index=False)"
   ]
  }
 ],
 "metadata": {
  "kernelspec": {
   "display_name": "base",
   "language": "python",
   "name": "python3"
  },
  "language_info": {
   "codemirror_mode": {
    "name": "ipython",
    "version": 3
   },
   "file_extension": ".py",
   "mimetype": "text/x-python",
   "name": "python",
   "nbconvert_exporter": "python",
   "pygments_lexer": "ipython3",
   "version": "3.11.5"
  }
 },
 "nbformat": 4,
 "nbformat_minor": 2
}
