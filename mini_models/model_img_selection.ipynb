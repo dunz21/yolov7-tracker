{
 "cells": [
  {
   "cell_type": "markdown",
   "metadata": {},
   "source": [
    "### Model Image Selection"
   ]
  },
  {
   "cell_type": "code",
   "execution_count": null,
   "metadata": {},
   "outputs": [],
   "source": [
    "from pipeline import train_and_save_model,predict_and_save_results\n",
    "\n",
    "# train_and_save_model('/home/diego/Documents/yolov7-tracker/mini_models/results/from_sql_bbox.csv', '/home/diego/Documents/yolov7-tracker/mini_models/results/image_selection_model.pkl')\n",
    "predict_and_save_results('/home/diego/Documents/yolov7-tracker/mini_models/results/image_selection_model.pkl','/home/diego/Documents/yolov7-tracker/logs/santos_dumont_bbox.csv')\n"
   ]
  }
 ],
 "metadata": {
  "kernelspec": {
   "display_name": "base",
   "language": "python",
   "name": "python3"
  },
  "language_info": {
   "codemirror_mode": {
    "name": "ipython",
    "version": 3
   },
   "file_extension": ".py",
   "mimetype": "text/x-python",
   "name": "python",
   "nbconvert_exporter": "python",
   "pygments_lexer": "ipython3",
   "version": "3.11.5"
  }
 },
 "nbformat": 4,
 "nbformat_minor": 2
}
