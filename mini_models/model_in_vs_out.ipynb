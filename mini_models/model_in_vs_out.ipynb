{
 "cells": [
  {
   "cell_type": "markdown",
   "metadata": {},
   "source": [
    "### Model In vs Out"
   ]
  },
  {
   "cell_type": "code",
   "execution_count": 4,
   "metadata": {},
   "outputs": [
    {
     "name": "stderr",
     "output_type": "stream",
     "text": [
      "/tmp/ipykernel_13019/699843578.py:35: SettingWithCopyWarning: \n",
      "A value is trying to be set on a copy of a slice from a DataFrame.\n",
      "Try using .loc[row_indexer,col_indexer] = value instead\n",
      "\n",
      "See the caveats in the documentation: https://pandas.pydata.org/pandas-docs/stable/user_guide/indexing.html#returning-a-view-versus-a-copy\n",
      "  train_df['label_direction_encoded'] = label_encoder.fit_transform(train_df[INTEREST_LABEL])  # 'IN' -> 1, 'OUT' -> 0\n"
     ]
    },
    {
     "name": "stdout",
     "output_type": "stream",
     "text": [
      "Validation Accuracy: 1.0\n",
      "LabelEncoder classes: ['IN' 'OUT']\n",
      "LabelEncoder inverse transform: ['OUT' 'IN']\n",
      "Updated CSV saved successfully.\n"
     ]
    },
    {
     "data": {
      "image/png": "[encoded data removed]",
      "text/plain": [
       "<Figure size 640x480 with 2 Axes>"
      ]
     },
     "metadata": {},
     "output_type": "display_data"
    },
    {
     "name": "stdout",
     "output_type": "stream",
     "text": [
      "conf_interval\n",
      "0.50-0.55      1\n",
      "0.55-0.60      4\n",
      "0.60-0.65      6\n",
      "0.65-0.70      1\n",
      "0.70-0.75      1\n",
      "0.75-0.80      0\n",
      "0.80-0.85      0\n",
      "0.85-0.90      7\n",
      "0.90-0.95      5\n",
      "0.95-1.00    651\n",
      "Name: count, dtype: int64\n",
      "conf_interval\n",
      "0.50-0.55    2\n",
      "0.55-0.60    5\n",
      "0.60-0.65    4\n",
      "0.65-0.70    0\n",
      "0.70-0.75    0\n",
      "0.75-0.80    0\n",
      "0.80-0.85    2\n",
      "0.85-0.90    0\n",
      "0.90-0.95    0\n",
      "0.95-1.00    0\n",
      "Name: count, dtype: int64\n"
     ]
    }
   ],
   "source": [
    "import pandas as pd\n",
    "import numpy as np\n",
    "import os\n",
    "import matplotlib.pyplot as plt\n",
    "from sklearn.model_selection import train_test_split\n",
    "from sklearn.ensemble import GradientBoostingClassifier\n",
    "from sklearn.preprocessing import LabelEncoder\n",
    "from sklearn.metrics import accuracy_score, ConfusionMatrixDisplay, classification_report,confusion_matrix\n",
    "from utils import aggregate_and_compare_predictions, plot_confusion_matrix, plot_false_positives, calculate_confidence_distribution\n",
    "\n",
    "BASE_IMAGES_PATH = '/home/diego/Documents/yolov7-tracker/imgs_conce'\n",
    "BASE_FOLDER_NAME = 'results'\n",
    "FILE_NAME = '120_conce_bbox.csv'\n",
    "CSV_FILE_PATH = os.path.join(BASE_FOLDER_NAME, FILE_NAME)\n",
    "INTEREST_LABEL = 'label_direction'\n",
    "\n",
    "MODEL_RESULT = os.path.join(BASE_FOLDER_NAME, f'model_inout_{FILE_NAME}')\n",
    "\n",
    "df = pd.read_csv(CSV_FILE_PATH)\n",
    "\n",
    "# df_filtered = df[(df[INTEREST_LABEL] == 'IN') | (df[INTEREST_LABEL] == 'OUT')] # FUNCIONA\n",
    "\n",
    "# Aca puede pasar que tengo solo hasta el ID 600 con etiquetas, \n",
    "# por ende necesito menor que el ID 1300 y que tengan las etiqeutas IN or OUT, y no BAD ni blanks\n",
    "train_df = df[(df['id'] < 1300) & (df[INTEREST_LABEL] == 'IN') | (df[INTEREST_LABEL] == 'OUT')]\n",
    "\n",
    "# Pero para el predict, necesito todas las arriba de 1300 y sacar los BADs solo si es que hay anotadas\n",
    "# si no da igual, ahora si hay IN or OUT, me va a servir para despues, pero pueden haber unos pocos o muchos\n",
    "# solo me va a servir para la confusion matrix\n",
    "predict_df = df[(df['id'] >= 1300) & (df[INTEREST_LABEL] != 'BAD')]\n",
    "\n",
    "\n",
    "# Correctly encode 'IN' as 1 and 'OUT' as 0\n",
    "label_encoder = LabelEncoder()\n",
    "train_df['label_direction_encoded'] = label_encoder.fit_transform(train_df[INTEREST_LABEL])  # 'IN' -> 1, 'OUT' -> 0\n",
    "\n",
    "not_imporant_features = ['id',\n",
    "                         INTEREST_LABEL,\n",
    "                         'label_direction_encoded',\n",
    "                         'conf_score',\n",
    "                         'k_fold',\n",
    "                         'label_img',\n",
    "                         'overlap',\n",
    "                         'area',\n",
    "                         'frame_number',\n",
    "                         ]\n",
    "# Define features (make sure to only include numeric columns and exclude any text columns)\n",
    "features = [col for col in train_df.columns if col not in not_imporant_features and train_df[col].dtype in [np.int64, np.float64]]\n",
    "target = 'label_direction_encoded'\n",
    "\n",
    "# Split the data into training and testing sets\n",
    "X_train, X_val, y_train, y_val = train_test_split(train_df[features], train_df[target], test_size=0.2, random_state=42)\n",
    "\n",
    "# Initialize the Gradient Boosting Classifier\n",
    "model = GradientBoostingClassifier(random_state=42)\n",
    "\n",
    "# Train the model\n",
    "model.fit(X_train, y_train)\n",
    "\n",
    "# Predict on the test set\n",
    "val_predictions = model.predict(X_val)\n",
    "val_accuracy = accuracy_score(y_val, val_predictions)\n",
    "print(f\"Validation Accuracy: {val_accuracy}\")\n",
    "\n",
    "\n",
    "\n",
    "predict_df = predict_df.dropna(subset=features)\n",
    "# Predicting on the dataset without labels\n",
    "predict_features = predict_df[features]\n",
    "predicted_labels = model.predict(predict_features)\n",
    "predicted_confidences = model.predict_proba(predict_features).max(axis=1)\n",
    "\n",
    "# Adding predictions back to the dataframe\n",
    "predict_df['model_label_direction'] = predicted_labels\n",
    "predict_df['model_label_direction_conf'] = predicted_confidences\n",
    "predict_df['model_label_direction'] = label_encoder.inverse_transform(predict_df['model_label_direction'].astype(int))\n",
    "\n",
    "# Combine the prediction and training dataframes\n",
    "final_df = pd.concat([train_df, predict_df], sort=False)\n",
    "\n",
    "# Save the updated dataframe to a new CSV file\n",
    "final_df.to_csv(MODEL_RESULT, index=False) \n",
    "\n",
    "label_encoder.classes_\n",
    "label_encoder.inverse_transform([1,0])\n",
    "print(\"LabelEncoder classes:\", label_encoder.classes_)\n",
    "print(\"LabelEncoder inverse transform:\", label_encoder.inverse_transform([1, 0]))\n",
    "print(\"Updated CSV saved successfully.\")\n",
    "\n",
    "\n",
    "################################################ TESTING ################################################\n",
    "agg_df = aggregate_and_compare_predictions(final_df, 'model_label_direction', 'label_direction')\n",
    "plot_confusion_matrix(agg_df)\n",
    "#plot_false_positives(agg_df, final_df, img_name_col='img_name',true_label_col='label_direction', pred_label_col='model_label_direction', conf_col='model_label_direction_conf', base_img_path=BASE_IMAGES_PATH, save_path='logs/false_positive_images.png', nrows=2)\n",
    "\n",
    "\n",
    "### CONFIDENCE DISTRIBUTION\n",
    "only_predicted_values = final_df.dropna(subset=['model_label_direction', 'label_direction'])\n",
    "TP_TN_final_value = only_predicted_values[(only_predicted_values['label_direction'] == only_predicted_values['model_label_direction'])]\n",
    "FP_FN_final_value = only_predicted_values[(only_predicted_values['label_direction'] != only_predicted_values['model_label_direction'])]\n",
    "\n",
    "true_positives_and_negatives = calculate_confidence_distribution(TP_TN_final_value, 'id', 'label_direction', 'model_label_direction', 'model_label_direction_conf')\n",
    "false_positives_and_negatives = calculate_confidence_distribution(FP_FN_final_value, 'id', 'label_direction', 'model_label_direction', 'model_label_direction_conf')\n",
    "print(true_positives_and_negatives)\n",
    "print(false_positives_and_negatives)\n"
   ]
  }
 ],
 "metadata": {
  "kernelspec": {
   "display_name": "base",
   "language": "python",
   "name": "python3"
  },
  "language_info": {
   "codemirror_mode": {
    "name": "ipython",
    "version": 3
   },
   "file_extension": ".py",
   "mimetype": "text/x-python",
   "name": "python",
   "nbconvert_exporter": "python",
   "pygments_lexer": "ipython3",
   "version": "3.11.5"
  }
 },
 "nbformat": 4,
 "nbformat_minor": 2
}
